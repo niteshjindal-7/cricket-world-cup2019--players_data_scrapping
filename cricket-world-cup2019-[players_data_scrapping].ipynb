{
 "cells": [
  {
   "cell_type": "code",
   "execution_count": null,
   "id": "5963e409",
   "metadata": {},
   "outputs": [],
   "source": [
    "# Importing the libraries\n",
    "from selenium import webdriver\n",
    "from selenium.webdriver.common.by import By\n",
    "from selenium.webdriver.common.keys import Keys\n",
    "from selenium.webdriver.support.ui import WebDriverWait\n",
    "from selenium.webdriver.support import expected_conditions as EC\n",
    "from bs4 import BeautifulSoup\n",
    "from pandas import DataFrame\n",
    "from datetime import datetime\n",
    "\n",
    "import csv\n",
    "import time\n",
    "import os\n",
    "import numpy as np\n",
    "import pandas as pd\n",
    "import re"
   ]
  },
  {
   "cell_type": "code",
   "execution_count": null,
   "id": "5f48edff",
   "metadata": {},
   "outputs": [],
   "source": [
    "#Invoking the Chrome-driver\n",
    "driver = webdriver.Chrome(\"C:\\\\...\\\\deepenv\\\\Cricket World Cup 2019 Analysis\\\\chromedriver\\\\chromedriver.exe\")"
   ]
  },
  {
   "cell_type": "code",
   "execution_count": null,
   "id": "ab12908a",
   "metadata": {},
   "outputs": [],
   "source": [
    "#Opening squad page via selenium\n",
    "driver.get(\"http://www.espncricinfo.com/ci/content/squad/index.html?object=1144415\") \n",
    "time.sleep(5)"
   ]
  },
  {
   "cell_type": "code",
   "execution_count": null,
   "id": "6436a9eb",
   "metadata": {},
   "outputs": [],
   "source": [
    "# Creates a new .csv file that the scraped data will be written to\n",
    "csv_file = open('C:\\\\...\\\\Cricket World Cup 2019 Analysis\\\\playersdata\\\\Players_data.csv', 'w', encoding=\"utf-8-sig\", newline=\"\")\n",
    "\n",
    "# Defining Writer and Column values for the CSV file\n",
    "writer = csv.writer(csv_file)\n",
    "writer.writerow(['Team','Player_Name','Playera_Role','Age', 'Player_Role', 'Batting','Bowling'])"
   ]
  },
  {
   "cell_type": "code",
   "execution_count": null,
   "id": "7ca3e0a7",
   "metadata": {},
   "outputs": [],
   "source": [
    "elem = driver.find_elements_by_css_selector(\".squads_list a\")\n",
    "Squad_pages=[]\n",
    "Squad_pages = Squad_pages + [links1.get_attribute('href') for links1 in elem]\n",
    "print(Squad_pages)"
   ]
  },
  {
   "cell_type": "code",
   "execution_count": null,
   "id": "5d3fbbbe",
   "metadata": {},
   "outputs": [],
   "source": [
    "len(Squad_pages)"
   ]
  },
  {
   "cell_type": "code",
   "execution_count": null,
   "id": "d89d29b5",
   "metadata": {},
   "outputs": [],
   "source": [
    "for i in range(len(Squad_pages)):\n",
    "    driver.get(Squad_pages[i])\n",
    "    time.sleep(5)\n",
    "    \n",
    "    players = driver.find_elements_by_xpath('//div[@class=\"large-13 medium-13 small-13 columns\"]')\n",
    "\n",
    "    for player in players:\n",
    "        player_dict = {}\n",
    "        \n",
    "        try:\n",
    "                        Team = driver.find_element_by_xpath('//div[@class=\"content main-section\"]//h1').text\n",
    "        except:\n",
    "                        Team = \"\"\n",
    "                \n",
    "        try:\n",
    "                        Player_Name = player.find_element_by_xpath('.//h3//a').text\n",
    "        except:\n",
    "                        Player_Name = \"\"\n",
    "\n",
    "        try:\n",
    "                        Playera_Role = player.find_element_by_xpath('.//h3//span').text\n",
    "        except:\n",
    "                        Playera_Role = \"\"\n",
    "              \n",
    "        try:\n",
    "                        Age = player.find_element_by_xpath('.//span[1]').text \n",
    "        except:\n",
    "                        Age = \"\"\n",
    "                \n",
    "        try:\n",
    "                        Player_Role = player.find_element_by_xpath('.//span[2]').text\n",
    "                            \n",
    "        except:\n",
    "                        Player_Role = \"\" \n",
    "            \n",
    "        try:\n",
    "                        Batting = player.find_element_by_xpath('.//span[3]').text\n",
    "                            \n",
    "        except:\n",
    "                        Batting = \"\" \n",
    "                \n",
    "        try:\n",
    "                        Bowling = player.find_element_by_xpath('.//span[4]').text\n",
    "                            \n",
    "        except:\n",
    "                        Bowling = \"\"    \n",
    "                \n",
    "\n",
    "        player_dict['Team'] = Team\n",
    "        player_dict['Player_Name'] = Player_Name\n",
    "        player_dict['Playera_Role'] = Playera_Role\n",
    "        player_dict['Age'] = Age\n",
    "        player_dict['Player_Role'] = Player_Role\n",
    "        player_dict['Batting'] = Batting\n",
    "        player_dict['Bowling'] = Bowling\n",
    "\n",
    "        writer.writerow(player_dict.values())\n",
    "\n",
    "csv_file.close()\n",
    "driver.close()"
   ]
  },
  {
   "cell_type": "code",
   "execution_count": null,
   "id": "7442d639",
   "metadata": {},
   "outputs": [],
   "source": []
  }
 ],
 "metadata": {
  "kernelspec": {
   "display_name": "Python 3 (ipykernel)",
   "language": "python",
   "name": "python3"
  },
  "language_info": {
   "codemirror_mode": {
    "name": "ipython",
    "version": 3
   },
   "file_extension": ".py",
   "mimetype": "text/x-python",
   "name": "python",
   "nbconvert_exporter": "python",
   "pygments_lexer": "ipython3",
   "version": "3.7.0"
  }
 },
 "nbformat": 4,
 "nbformat_minor": 5
}
